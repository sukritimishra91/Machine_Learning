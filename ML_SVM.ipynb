{
 "cells": [
  {
   "cell_type": "markdown",
   "metadata": {},
   "source": [
    "### Support vector machine implementation"
   ]
  },
  {
   "cell_type": "code",
   "execution_count": null,
   "metadata": {},
   "outputs": [],
   "source": [
    "import numpy as np \n",
    "import pandas as pd \n",
    "import matplotlib.pyplot as plt\n",
    "import seaborn as sns\n",
    "import os\n",
    "#print(os.listdir(\"../input\"))"
   ]
  },
  {
   "cell_type": "code",
   "execution_count": 9,
   "metadata": {},
   "outputs": [],
   "source": [
    "data = pd.read_csv(\"Test_Final_ML.csv\")\n",
    "\n"
   ]
  },
  {
   "cell_type": "code",
   "execution_count": 10,
   "metadata": {},
   "outputs": [
    {
     "data": {
      "text/html": [
       "<div>\n",
       "<style scoped>\n",
       "    .dataframe tbody tr th:only-of-type {\n",
       "        vertical-align: middle;\n",
       "    }\n",
       "\n",
       "    .dataframe tbody tr th {\n",
       "        vertical-align: top;\n",
       "    }\n",
       "\n",
       "    .dataframe thead th {\n",
       "        text-align: right;\n",
       "    }\n",
       "</style>\n",
       "<table border=\"1\" class=\"dataframe\">\n",
       "  <thead>\n",
       "    <tr style=\"text-align: right;\">\n",
       "      <th></th>\n",
       "      <th>NDVI_Mean</th>\n",
       "      <th>Target</th>\n",
       "      <th>Temperature</th>\n",
       "      <th>Precipitation</th>\n",
       "      <th>Humidity</th>\n",
       "      <th>Wind_Speed</th>\n",
       "      <th>Burned_Area</th>\n",
       "    </tr>\n",
       "  </thead>\n",
       "  <tbody>\n",
       "    <tr>\n",
       "      <th>0</th>\n",
       "      <td>0.083197</td>\n",
       "      <td>0</td>\n",
       "      <td>52.33</td>\n",
       "      <td>0.01</td>\n",
       "      <td>98.90</td>\n",
       "      <td>0.92</td>\n",
       "      <td>0.0</td>\n",
       "    </tr>\n",
       "    <tr>\n",
       "      <th>1</th>\n",
       "      <td>-0.145032</td>\n",
       "      <td>0</td>\n",
       "      <td>44.12</td>\n",
       "      <td>0.00</td>\n",
       "      <td>96.53</td>\n",
       "      <td>1.80</td>\n",
       "      <td>0.0</td>\n",
       "    </tr>\n",
       "    <tr>\n",
       "      <th>2</th>\n",
       "      <td>0.023643</td>\n",
       "      <td>0</td>\n",
       "      <td>47.10</td>\n",
       "      <td>0.00</td>\n",
       "      <td>94.70</td>\n",
       "      <td>1.39</td>\n",
       "      <td>0.0</td>\n",
       "    </tr>\n",
       "    <tr>\n",
       "      <th>3</th>\n",
       "      <td>-0.004569</td>\n",
       "      <td>0</td>\n",
       "      <td>50.33</td>\n",
       "      <td>0.00</td>\n",
       "      <td>92.62</td>\n",
       "      <td>2.90</td>\n",
       "      <td>0.0</td>\n",
       "    </tr>\n",
       "    <tr>\n",
       "      <th>4</th>\n",
       "      <td>0.044051</td>\n",
       "      <td>0</td>\n",
       "      <td>46.19</td>\n",
       "      <td>0.00</td>\n",
       "      <td>96.34</td>\n",
       "      <td>2.11</td>\n",
       "      <td>0.0</td>\n",
       "    </tr>\n",
       "  </tbody>\n",
       "</table>\n",
       "</div>"
      ],
      "text/plain": [
       "   NDVI_Mean  Target  Temperature  Precipitation  Humidity  Wind_Speed  \\\n",
       "0   0.083197       0        52.33           0.01     98.90        0.92   \n",
       "1  -0.145032       0        44.12           0.00     96.53        1.80   \n",
       "2   0.023643       0        47.10           0.00     94.70        1.39   \n",
       "3  -0.004569       0        50.33           0.00     92.62        2.90   \n",
       "4   0.044051       0        46.19           0.00     96.34        2.11   \n",
       "\n",
       "   Burned_Area  \n",
       "0          0.0  \n",
       "1          0.0  \n",
       "2          0.0  \n",
       "3          0.0  \n",
       "4          0.0  "
      ]
     },
     "execution_count": 10,
     "metadata": {},
     "output_type": "execute_result"
    }
   ],
   "source": [
    "data.head()"
   ]
  },
  {
   "cell_type": "code",
   "execution_count": 28,
   "metadata": {},
   "outputs": [
    {
     "data": {
      "text/html": [
       "<div>\n",
       "<style scoped>\n",
       "    .dataframe tbody tr th:only-of-type {\n",
       "        vertical-align: middle;\n",
       "    }\n",
       "\n",
       "    .dataframe tbody tr th {\n",
       "        vertical-align: top;\n",
       "    }\n",
       "\n",
       "    .dataframe thead th {\n",
       "        text-align: right;\n",
       "    }\n",
       "</style>\n",
       "<table border=\"1\" class=\"dataframe\">\n",
       "  <thead>\n",
       "    <tr style=\"text-align: right;\">\n",
       "      <th></th>\n",
       "      <th>NDVI_Mean</th>\n",
       "      <th>Target</th>\n",
       "      <th>Temperature</th>\n",
       "      <th>Precipitation</th>\n",
       "      <th>Humidity</th>\n",
       "      <th>Wind_Speed</th>\n",
       "      <th>Burned_Area</th>\n",
       "    </tr>\n",
       "  </thead>\n",
       "  <tbody>\n",
       "    <tr>\n",
       "      <th>count</th>\n",
       "      <td>407.000000</td>\n",
       "      <td>407.000000</td>\n",
       "      <td>407.000000</td>\n",
       "      <td>407.000000</td>\n",
       "      <td>407.000000</td>\n",
       "      <td>407.000000</td>\n",
       "      <td>407.000000</td>\n",
       "    </tr>\n",
       "    <tr>\n",
       "      <th>mean</th>\n",
       "      <td>-0.029196</td>\n",
       "      <td>0.063882</td>\n",
       "      <td>55.523931</td>\n",
       "      <td>0.002482</td>\n",
       "      <td>76.482408</td>\n",
       "      <td>4.132629</td>\n",
       "      <td>0.813626</td>\n",
       "    </tr>\n",
       "    <tr>\n",
       "      <th>std</th>\n",
       "      <td>0.119732</td>\n",
       "      <td>0.244844</td>\n",
       "      <td>8.120177</td>\n",
       "      <td>0.009204</td>\n",
       "      <td>13.738028</td>\n",
       "      <td>2.247313</td>\n",
       "      <td>15.278814</td>\n",
       "    </tr>\n",
       "    <tr>\n",
       "      <th>min</th>\n",
       "      <td>-0.477279</td>\n",
       "      <td>0.000000</td>\n",
       "      <td>35.140000</td>\n",
       "      <td>0.000000</td>\n",
       "      <td>25.600000</td>\n",
       "      <td>0.480000</td>\n",
       "      <td>0.000000</td>\n",
       "    </tr>\n",
       "    <tr>\n",
       "      <th>25%</th>\n",
       "      <td>-0.114239</td>\n",
       "      <td>0.000000</td>\n",
       "      <td>50.215000</td>\n",
       "      <td>0.000000</td>\n",
       "      <td>67.550000</td>\n",
       "      <td>2.550000</td>\n",
       "      <td>0.000000</td>\n",
       "    </tr>\n",
       "    <tr>\n",
       "      <th>50%</th>\n",
       "      <td>-0.027559</td>\n",
       "      <td>0.000000</td>\n",
       "      <td>55.900000</td>\n",
       "      <td>0.000000</td>\n",
       "      <td>79.180000</td>\n",
       "      <td>3.910000</td>\n",
       "      <td>0.000000</td>\n",
       "    </tr>\n",
       "    <tr>\n",
       "      <th>75%</th>\n",
       "      <td>0.068728</td>\n",
       "      <td>0.000000</td>\n",
       "      <td>61.015000</td>\n",
       "      <td>0.000000</td>\n",
       "      <td>86.110000</td>\n",
       "      <td>5.095000</td>\n",
       "      <td>0.000000</td>\n",
       "    </tr>\n",
       "    <tr>\n",
       "      <th>max</th>\n",
       "      <td>0.292164</td>\n",
       "      <td>1.000000</td>\n",
       "      <td>80.500000</td>\n",
       "      <td>0.070000</td>\n",
       "      <td>99.020000</td>\n",
       "      <td>14.160000</td>\n",
       "      <td>307.904696</td>\n",
       "    </tr>\n",
       "  </tbody>\n",
       "</table>\n",
       "</div>"
      ],
      "text/plain": [
       "        NDVI_Mean      Target  Temperature  Precipitation    Humidity  \\\n",
       "count  407.000000  407.000000   407.000000     407.000000  407.000000   \n",
       "mean    -0.029196    0.063882    55.523931       0.002482   76.482408   \n",
       "std      0.119732    0.244844     8.120177       0.009204   13.738028   \n",
       "min     -0.477279    0.000000    35.140000       0.000000   25.600000   \n",
       "25%     -0.114239    0.000000    50.215000       0.000000   67.550000   \n",
       "50%     -0.027559    0.000000    55.900000       0.000000   79.180000   \n",
       "75%      0.068728    0.000000    61.015000       0.000000   86.110000   \n",
       "max      0.292164    1.000000    80.500000       0.070000   99.020000   \n",
       "\n",
       "       Wind_Speed  Burned_Area  \n",
       "count  407.000000   407.000000  \n",
       "mean     4.132629     0.813626  \n",
       "std      2.247313    15.278814  \n",
       "min      0.480000     0.000000  \n",
       "25%      2.550000     0.000000  \n",
       "50%      3.910000     0.000000  \n",
       "75%      5.095000     0.000000  \n",
       "max     14.160000   307.904696  "
      ]
     },
     "execution_count": 28,
     "metadata": {},
     "output_type": "execute_result"
    }
   ],
   "source": [
    "data.describe()"
   ]
  },
  {
   "cell_type": "code",
   "execution_count": 29,
   "metadata": {},
   "outputs": [
    {
     "name": "stdout",
     "output_type": "stream",
     "text": [
      "<class 'pandas.core.frame.DataFrame'>\n",
      "RangeIndex: 407 entries, 0 to 406\n",
      "Data columns (total 7 columns):\n",
      " #   Column         Non-Null Count  Dtype  \n",
      "---  ------         --------------  -----  \n",
      " 0   NDVI_Mean      407 non-null    float64\n",
      " 1   Target         407 non-null    int64  \n",
      " 2   Temperature    407 non-null    float64\n",
      " 3   Precipitation  407 non-null    float64\n",
      " 4   Humidity       407 non-null    float64\n",
      " 5   Wind_Speed     407 non-null    float64\n",
      " 6   Burned_Area    407 non-null    float64\n",
      "dtypes: float64(6), int64(1)\n",
      "memory usage: 22.4 KB\n"
     ]
    }
   ],
   "source": [
    "data.info()"
   ]
  },
  {
   "cell_type": "code",
   "execution_count": 11,
   "metadata": {},
   "outputs": [
    {
     "data": {
      "text/plain": [
       "array([[<matplotlib.axes._subplots.AxesSubplot object at 0x1a2725aa90>,\n",
       "        <matplotlib.axes._subplots.AxesSubplot object at 0x1a274d7e90>,\n",
       "        <matplotlib.axes._subplots.AxesSubplot object at 0x1a2750aa50>],\n",
       "       [<matplotlib.axes._subplots.AxesSubplot object at 0x1a27544dd0>,\n",
       "        <matplotlib.axes._subplots.AxesSubplot object at 0x1a27577a90>,\n",
       "        <matplotlib.axes._subplots.AxesSubplot object at 0x1a275b0e10>],\n",
       "       [<matplotlib.axes._subplots.AxesSubplot object at 0x1a275e3ad0>,\n",
       "        <matplotlib.axes._subplots.AxesSubplot object at 0x1a2760bfd0>,\n",
       "        <matplotlib.axes._subplots.AxesSubplot object at 0x1a27617b50>]],\n",
       "      dtype=object)"
      ]
     },
     "execution_count": 11,
     "metadata": {},
     "output_type": "execute_result"
    },
    {
     "data": {
      "image/png": "[encoded data removed]",
      "text/plain": [
       "<Figure size 1440x720 with 9 Axes>"
      ]
     },
     "metadata": {
      "needs_background": "light"
     },
     "output_type": "display_data"
    }
   ],
   "source": [
    "%matplotlib inline\n",
    "import matplotlib.pyplot as plt\n",
    "plt.rcParams[\"figure.figsize\"] = (20,10)\n",
    "data.hist() "
   ]
  },
  {
   "cell_type": "markdown",
   "metadata": {},
   "source": [
    "# Training and Testing Dataset "
   ]
  },
  {
   "cell_type": "code",
   "execution_count": 12,
   "metadata": {},
   "outputs": [],
   "source": [
    "from sklearn.model_selection import train_test_split\n",
    "x,y = data.loc[:,data.columns != 'Target'], data.loc[:,'Target']\n",
    "x_train, x_test, y_train, y_test = train_test_split(x,y,test_size = 0.2,random_state=0)\n"
   ]
  },
  {
   "cell_type": "markdown",
   "metadata": {},
   "source": [
    "# Support Vector Machine"
   ]
  },
  {
   "cell_type": "code",
   "execution_count": 13,
   "metadata": {},
   "outputs": [
    {
     "data": {
      "text/plain": [
       "SVC(C=1.0, break_ties=False, cache_size=200, class_weight=None, coef0=0.0,\n",
       "    decision_function_shape='ovr', degree=3, gamma='scale', kernel='linear',\n",
       "    max_iter=-1, probability=False, random_state=None, shrinking=True,\n",
       "    tol=0.001, verbose=False)"
      ]
     },
     "execution_count": 13,
     "metadata": {},
     "output_type": "execute_result"
    }
   ],
   "source": [
    "from sklearn.svm import SVC\n",
    "svclassifier = SVC(kernel='linear')\n",
    "svclassifier.fit(x_train, y_train)"
   ]
  },
  {
   "cell_type": "code",
   "execution_count": 14,
   "metadata": {},
   "outputs": [],
   "source": [
    "y_pred = svclassifier.predict(x_test)"
   ]
  },
  {
   "cell_type": "code",
   "execution_count": 15,
   "metadata": {},
   "outputs": [
    {
     "name": "stdout",
     "output_type": "stream",
     "text": [
      "[[80  0]\n",
      " [ 1  1]]\n",
      "              precision    recall  f1-score   support\n",
      "\n",
      "           0       0.99      1.00      0.99        80\n",
      "           1       1.00      0.50      0.67         2\n",
      "\n",
      "    accuracy                           0.99        82\n",
      "   macro avg       0.99      0.75      0.83        82\n",
      "weighted avg       0.99      0.99      0.99        82\n",
      "\n"
     ]
    }
   ],
   "source": [
    "from sklearn.metrics import classification_report, confusion_matrix\n",
    "print(confusion_matrix(y_test,y_pred))\n",
    "print(classification_report(y_test,y_pred))"
   ]
  },
  {
   "cell_type": "code",
   "execution_count": 16,
   "metadata": {},
   "outputs": [
    {
     "data": {
      "text/plain": [
       "SVC(C=1.0, break_ties=False, cache_size=200, class_weight=None, coef0=0.0,\n",
       "    decision_function_shape='ovr', degree=8, gamma='scale', kernel='poly',\n",
       "    max_iter=-1, probability=False, random_state=None, shrinking=True,\n",
       "    tol=0.001, verbose=False)"
      ]
     },
     "execution_count": 16,
     "metadata": {},
     "output_type": "execute_result"
    }
   ],
   "source": [
    "from sklearn.svm import SVC\n",
    "svclassifier = SVC(kernel='poly', degree=8)\n",
    "svclassifier.fit(x_train, y_train)"
   ]
  },
  {
   "cell_type": "code",
   "execution_count": 17,
   "metadata": {},
   "outputs": [],
   "source": [
    "y_pred = svclassifier.predict(x_test)"
   ]
  },
  {
   "cell_type": "code",
   "execution_count": 18,
   "metadata": {},
   "outputs": [
    {
     "name": "stdout",
     "output_type": "stream",
     "text": [
      "[[80  0]\n",
      " [ 2  0]]\n",
      "              precision    recall  f1-score   support\n",
      "\n",
      "           0       0.98      1.00      0.99        80\n",
      "           1       0.00      0.00      0.00         2\n",
      "\n",
      "    accuracy                           0.98        82\n",
      "   macro avg       0.49      0.50      0.49        82\n",
      "weighted avg       0.95      0.98      0.96        82\n",
      "\n"
     ]
    },
    {
     "name": "stderr",
     "output_type": "stream",
     "text": [
      "/Users/sukritimishra/opt/anaconda3/envs/ml/lib/python3.7/site-packages/sklearn/metrics/_classification.py:1272: UndefinedMetricWarning: Precision and F-score are ill-defined and being set to 0.0 in labels with no predicted samples. Use `zero_division` parameter to control this behavior.\n",
      "  _warn_prf(average, modifier, msg_start, len(result))\n"
     ]
    }
   ],
   "source": [
    "from sklearn.metrics import classification_report, confusion_matrix\n",
    "print(confusion_matrix(y_test, y_pred))\n",
    "print(classification_report(y_test, y_pred))"
   ]
  },
  {
   "cell_type": "code",
   "execution_count": 19,
   "metadata": {},
   "outputs": [
    {
     "data": {
      "text/plain": [
       "SVC(C=1.0, break_ties=False, cache_size=200, class_weight=None, coef0=0.0,\n",
       "    decision_function_shape='ovr', degree=3, gamma='scale', kernel='rbf',\n",
       "    max_iter=-1, probability=False, random_state=None, shrinking=True,\n",
       "    tol=0.001, verbose=False)"
      ]
     },
     "execution_count": 19,
     "metadata": {},
     "output_type": "execute_result"
    }
   ],
   "source": [
    "from sklearn.svm import SVC\n",
    "svclassifier = SVC(kernel='rbf')\n",
    "svclassifier.fit(x_train, y_train)"
   ]
  },
  {
   "cell_type": "code",
   "execution_count": 21,
   "metadata": {},
   "outputs": [],
   "source": [
    "y_pred = svclassifier.predict(x_test)"
   ]
  },
  {
   "cell_type": "code",
   "execution_count": 22,
   "metadata": {},
   "outputs": [
    {
     "name": "stdout",
     "output_type": "stream",
     "text": [
      "[[80  0]\n",
      " [ 2  0]]\n",
      "              precision    recall  f1-score   support\n",
      "\n",
      "           0       0.98      1.00      0.99        80\n",
      "           1       0.00      0.00      0.00         2\n",
      "\n",
      "    accuracy                           0.98        82\n",
      "   macro avg       0.49      0.50      0.49        82\n",
      "weighted avg       0.95      0.98      0.96        82\n",
      "\n"
     ]
    },
    {
     "name": "stderr",
     "output_type": "stream",
     "text": [
      "/Users/sukritimishra/opt/anaconda3/envs/ml/lib/python3.7/site-packages/sklearn/metrics/_classification.py:1272: UndefinedMetricWarning: Precision and F-score are ill-defined and being set to 0.0 in labels with no predicted samples. Use `zero_division` parameter to control this behavior.\n",
      "  _warn_prf(average, modifier, msg_start, len(result))\n"
     ]
    }
   ],
   "source": [
    "from sklearn.metrics import classification_report, confusion_matrix\n",
    "print(confusion_matrix(y_test, y_pred))\n",
    "print(classification_report(y_test, y_pred))"
   ]
  },
  {
   "cell_type": "code",
   "execution_count": 24,
   "metadata": {},
   "outputs": [
    {
     "data": {
      "text/plain": [
       "SVC(C=1.0, break_ties=False, cache_size=200, class_weight=None, coef0=0.0,\n",
       "    decision_function_shape='ovr', degree=3, gamma='scale', kernel='sigmoid',\n",
       "    max_iter=-1, probability=False, random_state=None, shrinking=True,\n",
       "    tol=0.001, verbose=False)"
      ]
     },
     "execution_count": 24,
     "metadata": {},
     "output_type": "execute_result"
    }
   ],
   "source": [
    "from sklearn.svm import SVC\n",
    "svclassifier = SVC(kernel='sigmoid')\n",
    "svclassifier.fit(x_train, y_train)"
   ]
  },
  {
   "cell_type": "code",
   "execution_count": 26,
   "metadata": {},
   "outputs": [],
   "source": [
    "y_pred = svclassifier.predict(x_test)"
   ]
  },
  {
   "cell_type": "code",
   "execution_count": 27,
   "metadata": {},
   "outputs": [
    {
     "name": "stdout",
     "output_type": "stream",
     "text": [
      "[[80  0]\n",
      " [ 2  0]]\n",
      "              precision    recall  f1-score   support\n",
      "\n",
      "           0       0.98      1.00      0.99        80\n",
      "           1       0.00      0.00      0.00         2\n",
      "\n",
      "    accuracy                           0.98        82\n",
      "   macro avg       0.49      0.50      0.49        82\n",
      "weighted avg       0.95      0.98      0.96        82\n",
      "\n"
     ]
    },
    {
     "name": "stderr",
     "output_type": "stream",
     "text": [
      "/Users/sukritimishra/opt/anaconda3/envs/ml/lib/python3.7/site-packages/sklearn/metrics/_classification.py:1272: UndefinedMetricWarning: Precision and F-score are ill-defined and being set to 0.0 in labels with no predicted samples. Use `zero_division` parameter to control this behavior.\n",
      "  _warn_prf(average, modifier, msg_start, len(result))\n"
     ]
    }
   ],
   "source": [
    "from sklearn.metrics import classification_report, confusion_matrix\n",
    "print(confusion_matrix(y_test, y_pred))\n",
    "print(classification_report(y_test, y_pred))"
   ]
  },
  {
   "cell_type": "code",
   "execution_count": null,
   "metadata": {},
   "outputs": [],
   "source": []
  }
 ],
 "metadata": {
  "kernelspec": {
   "display_name": "Python 3",
   "language": "python",
   "name": "python3"
  },
  "language_info": {
   "codemirror_mode": {
    "name": "ipython",
    "version": 3
   },
   "file_extension": ".py",
   "mimetype": "text/x-python",
   "name": "python",
   "nbconvert_exporter": "python",
   "pygments_lexer": "ipython3",
   "version": "3.7.4"
  }
 },
 "nbformat": 4,
 "nbformat_minor": 4
}
